{
 "cells": [
  {
   "cell_type": "markdown",
   "metadata": {},
   "source": [
    "# Project Three\n",
    "\n",
    "Here's what you're going to do.\n",
    "\n",
    "## Part One\n",
    "\n",
    "You're going to run each of the functions in the package.\n",
    "\n",
    "(15 pts each Error 1, Error 2, Error 3)"
   ]
  },
  {
   "cell_type": "code",
   "execution_count": 4,
   "metadata": {},
   "outputs": [],
   "source": [
    "import pachecopythonpackage\n",
    "read = pachecopythonpackage.sequence_reader(\"../../data/plethodon.phy\")"
   ]
  },
  {
   "cell_type": "markdown",
   "metadata": {},
   "source": [
    "1) Error 1 - paste in the traceback. \n",
    "\n",
    "\n"
   ]
  },
  {
   "cell_type": "code",
   "execution_count": null,
   "metadata": {},
   "outputs": [],
   "source": [
    "PhylipStrictSequentialError               Traceback (most recent call last)\n",
    "<ipython-input-3-c7da87cd49ae> in <module>()\n",
    "      1 import pachecopythonpackage\n",
    "----> 2 read = pachecopythonpackage.sequence_reader(\"../../data/full_plethodon_alignment.phy\")\n",
    "\n",
    "~/.local/lib/python3.6/site-packages/pachecopythonpackage/sequence_reader.py in sequence_reader(filepath)\n",
    "      7     sequence_set = dendropy.DnaCharacterMatrix.get(\n",
    "      8     path=filepath,\n",
    "----> 9     schema=\"phylip\"\n",
    "     10 )\n",
    "     11 \n",
    "\n",
    "/opt/tljh/user/lib/python3.6/site-packages/dendropy/datamodel/charmatrixmodel.py in get(cls, **kwargs)\n",
    "    604 \n",
    "    605         \"\"\"\n",
    "--> 606         return cls._get_from(**kwargs)\n",
    "    607 \n",
    "    608     def concatenate(cls, char_matrices):\n",
    "\n",
    "/opt/tljh/user/lib/python3.6/site-packages/dendropy/datamodel/basemodel.py in _get_from(cls, **kwargs)\n",
    "    154             return cls.get_from_stream(src=src, schema=schema, **kwargs)\n",
    "    155         elif src_type == \"path\":\n",
    "--> 156             return cls.get_from_path(src=src, schema=schema, **kwargs)\n",
    "    157         elif src_type == \"data\" or src_type == \"string\":\n",
    "    158             return cls.get_from_string(src=src, schema=schema, **kwargs)\n",
    "\n",
    "/opt/tljh/user/lib/python3.6/site-packages/dendropy/datamodel/basemodel.py in get_from_path(cls, src, schema, **kwargs)\n",
    "    217             return cls._parse_and_create_from_stream(stream=fsrc,\n",
    "    218                     schema=schema,\n",
    "--> 219                     **kwargs)\n",
    "    220     get_from_path = classmethod(get_from_path)\n",
    "    221 \n",
    "\n",
    "/opt/tljh/user/lib/python3.6/site-packages/dendropy/datamodel/charmatrixmodel.py in _parse_and_create_from_stream(cls, stream, schema, matrix_offset, **kwargs)\n",
    "    525                 char_matrix_factory=new_char_matrix,\n",
    "    526                 state_alphabet_factory=charstatemodel.StateAlphabet,\n",
    "--> 527                 global_annotations_target=None)\n",
    "    528         if len(char_matrices) == 0:\n",
    "    529             raise ValueError(\"No character data in data source\")\n",
    "\n",
    "/opt/tljh/user/lib/python3.6/site-packages/dendropy/dataio/ioservice.py in read_char_matrices(self, stream, taxon_namespace_factory, char_matrix_factory, state_alphabet_factory, global_annotations_target)\n",
    "    375                 char_matrix_factory=char_matrix_factory,\n",
    "    376                 state_alphabet_factory=state_alphabet_factory,\n",
    "--> 377                 global_annotations_target=global_annotations_target)\n",
    "    378         return product.char_matrices\n",
    "    379 \n",
    "\n",
    "/opt/tljh/user/lib/python3.6/site-packages/dendropy/dataio/phylipreader.py in _read(self, stream, taxon_namespace_factory, tree_list_factory, char_matrix_factory, state_alphabet_factory, global_annotations_target)\n",
    "    185         m = re.match('\\s*(\\d+)\\s+(\\d+)\\s*$', desc_line)\n",
    "    186         if m is None:\n",
    "--> 187             raise self._data_parse_error(\"Invalid data description line: '%s'\" % desc_line)\n",
    "    188         self.ntax = int(m.groups()[0])\n",
    "    189         self.nchar = int(m.groups()[1])\n",
    "\n",
    "PhylipStrictSequentialError: Error parsing data source '../../data/full_plethodon_alignment.phy': Invalid data description line: '>Mystery_pleth'"
   ]
  },
  {
   "cell_type": "markdown",
   "metadata": {},
   "source": [
    "2) Error 1 - What type of error is this? In your own words, what went wrong?"
   ]
  },
  {
   "cell_type": "markdown",
   "metadata": {},
   "source": [
    "I would consider this a file error, while in this case the filepath is correct, the type of input file we need was not right, the program takes in a phylip file format and we were providing it a fasta file"
   ]
  },
  {
   "cell_type": "markdown",
   "metadata": {},
   "source": [
    "3) Error 1 - Resolve this. In your own words, _how_ did you resolve the error? "
   ]
  },
  {
   "cell_type": "markdown",
   "metadata": {},
   "source": [
    "We were using an invalid filetype, it was a modified .phy that actually had the structure of a fasta"
   ]
  },
  {
   "cell_type": "markdown",
   "metadata": {},
   "source": [
    "No Points) If you googled the error, paste in a link to a website you found helpful."
   ]
  },
  {
   "cell_type": "markdown",
   "metadata": {},
   "source": [
    "5) Error 2 - paste in the traceback. \n",
    "\n",
    "\n"
   ]
  },
  {
   "cell_type": "code",
   "execution_count": 5,
   "metadata": {},
   "outputs": [],
   "source": [
    "pachecopythonpackage.sequence_cleaner(read, \"../../../Pachecopythonpackage/data/blast.fa\", 'Plethodon_albagula', 4096, 5236)"
   ]
  },
  {
   "cell_type": "code",
   "execution_count": null,
   "metadata": {},
   "outputs": [],
   "source": [
    "---------------------------------------------------------------------------\n",
    "NameError                                 Traceback (most recent call last)\n",
    "<ipython-input-6-9dce91fc9109> in <module>()\n",
    "----> 1 pachecopythonpackage.sequence_cleaner(read, \"../../../Pachecopythonpackage/data/blast.fa\", 'Plethodon_albagula', 4096, 5236)\n",
    "\n",
    "~/.local/lib/python3.6/site-packages/pachecopythonpackage/sequence_cleaner.py in sequence_cleaner(sequence_set, out_file, taxon, init_gene, end_gene)\n",
    "     18     #assert end and beginning\n",
    "     19 \n",
    "---> 20     my_taxon_sequence = sequence[taxon].symbols_as_string()\n",
    "     21     my_taxon_gene = my_taxon_sequence[init_gene : end_gene]\n",
    "     22     ofile = open(out_file, \"w\")\n",
    "\n",
    "NameError: name 'sequence_set' is not defined\n"
   ]
  },
  {
   "cell_type": "code",
   "execution_count": null,
   "metadata": {},
   "outputs": [],
   "source": [
    "---------------------------------------------------------------------------\n",
    "TypeError                                 Traceback (most recent call last)\n",
    "<ipython-input-3-9dce91fc9109> in <module>()\n",
    "----> 1 pachecopythonpackage.sequence_cleaner(read, \"../../../Pachecopythonpackage/data/blast.fa\", 'Plethodon_albagula', 4096, 5236)\n",
    "\n",
    "~/.local/lib/python3.6/site-packages/pachecopythonpackage/sequence_cleaner.py in sequence_cleaner(sequence_set, out_file, taxon, init_gene, end_gene)\n",
    "     24     ofile.close()\n",
    "     25 \n",
    "---> 26     assert taxon == str(my_taxon_sequence[taxon]), 'the taxon is not present in the dataset'\n",
    "     27     assert os.path.getsize(out_file) != 0\n",
    "     28 \n",
    "\n",
    "TypeError: string indices must be integers"
   ]
  },
  {
   "cell_type": "markdown",
   "metadata": {},
   "source": [
    "6) Error 2 - What type of error is this? In your own words, what went wrong?"
   ]
  },
  {
   "cell_type": "markdown",
   "metadata": {},
   "source": [
    "This would be a variable name error, apparently in the previous module event tough we put a return for the sequence_set variable its not returning any value/data.\n",
    "For the second error in this case I kept getting errors with the assert statements, in this case we got \"TypeError: string indices must be integers\"\n",
    "for simplicity I commented out the assert to troubleshoot the correct functioning of the module and leave data entry/output validation for later."
   ]
  },
  {
   "cell_type": "markdown",
   "metadata": {},
   "source": [
    "7) Error 2 - Resolve this. In your own words, _how_ did you resolve the error? "
   ]
  },
  {
   "cell_type": "markdown",
   "metadata": {},
   "source": [
    "we had to actually assingn the result from running the reader module into a variable for it to work."
   ]
  },
  {
   "cell_type": "markdown",
   "metadata": {},
   "source": [
    "No Points) If you googled the error, paste in a link to a website you found helpful."
   ]
  },
  {
   "cell_type": "markdown",
   "metadata": {},
   "source": [
    "8) Error 3 - paste in the traceback. \n"
   ]
  },
  {
   "cell_type": "code",
   "execution_count": 3,
   "metadata": {},
   "outputs": [],
   "source": [
    "pachecopythonpackage.sequence_blaster(\"../../../Pachecopythonpackage/data/blast.fa\", \"../../../Pachecopythonpackage/data/blast_results.fa\")"
   ]
  },
  {
   "cell_type": "code",
   "execution_count": null,
   "metadata": {},
   "outputs": [],
   "source": [
    "NameError                                 Traceback (most recent call last)\n",
    "<ipython-input-4-da3d433d2cda> in <module>()\n",
    "----> 1 pachecopythonpackage.sequence_blaster(\"../../../Pachecopythonpackage/data/blast.fa\", \"../../../Pachecopythonpackage/data/blast_results.fa\", 4096, 5236)\n",
    "\n",
    "~/.local/lib/python3.6/site-packages/pachecopythonpackage/sequence_blaster.py in sequence_blaster(fasta_path, results_path, first_n_gene, last_n_gene)\n",
    "      5     import os\n",
    "      6 \n",
    "----> 7     assert fasta_path is *.fa\n",
    "      8 \n",
    "      9     record = SeqIO.read(fasta_path[first_n_gene:last_n_gene], format=\"fasta\")\n",
    "\n",
    "NameError: name 'fasta' is not defined"
   ]
  },
  {
   "cell_type": "markdown",
   "metadata": {},
   "source": [
    "9) Error 3 - What type of error is this? In your own words, what went wrong?"
   ]
  },
  {
   "cell_type": "markdown",
   "metadata": {},
   "source": [
    "This is another variable name error, it is difficult to assess the file type in python, usually you can assess the type of the data present such as integer or string but assesing the filetype is more complicated, to advance and test the results of the module I'll comment out this assert line."
   ]
  },
  {
   "cell_type": "markdown",
   "metadata": {},
   "source": [
    "10) Error 2 - Resolve this. In your own words, _how_ did you resolve the error? "
   ]
  },
  {
   "cell_type": "code",
   "execution_count": null,
   "metadata": {},
   "outputs": [],
   "source": [
    "commented out the line."
   ]
  },
  {
   "cell_type": "markdown",
   "metadata": {},
   "source": [
    "11) Google one of errors. What search phrase actually got you helpful results?"
   ]
  },
  {
   "cell_type": "markdown",
   "metadata": {},
   "source": [
    "## Part Two \n",
    "\n",
    "You're going to add one function to the package. "
   ]
  },
  {
   "cell_type": "markdown",
   "metadata": {},
   "source": [
    "1) (15pts) The function should be in its own file"
   ]
  },
  {
   "cell_type": "markdown",
   "metadata": {},
   "source": [
    "Created a new module/function that parses the results from the blast search and filters them by an e-value treshold."
   ]
  },
  {
   "cell_type": "markdown",
   "metadata": {},
   "source": [
    "2) (15 pts) You should write a docstring so I know what the function does"
   ]
  },
  {
   "cell_type": "markdown",
   "metadata": {},
   "source": [
    "\"\"\"\n",
    "This function takes an .xml input file from a blast search and helps to visualize the results, providing information about the sequence that matched, the lenght of said sequence and its e-value.\n",
    "\n",
    "Arguments:\n",
    "input_file > filepath to the .xml file with the blast search results\n",
    "e_value_tresh > treshold for the e-values to display.\n",
    "\"\"\""
   ]
  },
  {
   "cell_type": "markdown",
   "metadata": {},
   "source": [
    "3) (15 pts) The function should contain either a precondition, or a postcondition"
   ]
  },
  {
   "cell_type": "code",
   "execution_count": null,
   "metadata": {},
   "outputs": [],
   "source": [
    "assert e_value_tresh != 0\n",
    "assert os.path.exists(input_file), 'input filepath does not exist'"
   ]
  },
  {
   "cell_type": "markdown",
   "metadata": {},
   "source": [
    "## Part Three\n",
    "(10 pts)\n",
    "Add all your files, commit the files, and push them to your GitHub. Also include a copy of this notebook in the package. "
   ]
  },
  {
   "cell_type": "code",
   "execution_count": null,
   "metadata": {},
   "outputs": [],
   "source": []
  }
 ],
 "metadata": {
  "kernelspec": {
   "display_name": "Python 3",
   "language": "python",
   "name": "python3"
  },
  "language_info": {
   "codemirror_mode": {
    "name": "ipython",
    "version": 3
   },
   "file_extension": ".py",
   "mimetype": "text/x-python",
   "name": "python",
   "nbconvert_exporter": "python",
   "pygments_lexer": "ipython3",
   "version": "3.6.6"
  },
  "latex_envs": {
   "LaTeX_envs_menu_present": true,
   "autoclose": false,
   "autocomplete": true,
   "bibliofile": "biblio.bib",
   "cite_by": "apalike",
   "current_citInitial": 1,
   "eqLabelWithNumbers": true,
   "eqNumInitial": 1,
   "hotkeys": {
    "equation": "Ctrl-E",
    "itemize": "Ctrl-I"
   },
   "labels_anchors": false,
   "latex_user_defs": false,
   "report_style_numbering": false,
   "user_envs_cfg": false
  },
  "toc": {
   "base_numbering": 1,
   "nav_menu": {},
   "number_sections": true,
   "sideBar": true,
   "skip_h1_title": false,
   "title_cell": "Table of Contents",
   "title_sidebar": "Contents",
   "toc_cell": false,
   "toc_position": {},
   "toc_section_display": true,
   "toc_window_display": false
  }
 },
 "nbformat": 4,
 "nbformat_minor": 2
}
